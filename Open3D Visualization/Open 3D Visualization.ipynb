{
 "cells": [
  {
   "cell_type": "code",
   "execution_count": 2,
   "metadata": {},
   "outputs": [
    {
     "name": "stdout",
     "output_type": "stream",
     "text": [
      "Collecting package metadata (current_repodata.json): ...working... done\n",
      "Solving environment: ...working... done\n",
      "\n",
      "## Package Plan ##\n",
      "\n",
      "  environment location: C:\\Anaconda3\\envs\\Arshad\n",
      "\n",
      "  added / updated specs:\n",
      "    - python\n",
      "\n",
      "\n",
      "The following packages will be downloaded:\n",
      "\n",
      "    package                    |            build\n",
      "    ---------------------------|-----------------\n",
      "    ca-certificates-2022.4.26  |       haa95532_0         163 KB  anaconda\n",
      "    certifi-2021.10.8          |   py38haa95532_2         156 KB  anaconda\n",
      "    openssl-1.1.1n             |       h2bbff1b_0         5.8 MB  anaconda\n",
      "    python-3.8.13              |       h6244533_0        19.8 MB  anaconda\n",
      "    ------------------------------------------------------------\n",
      "                                           Total:        25.9 MB\n",
      "\n",
      "The following packages will be SUPERSEDED by a higher-priority channel:\n",
      "\n",
      "  ca-certificates                                 pkgs/main --> anaconda\n",
      "  certifi                                         pkgs/main --> anaconda\n",
      "  openssl              pkgs/main::openssl-1.1.1o-h2bbff1b_0 --> anaconda::openssl-1.1.1n-h2bbff1b_0\n",
      "  python                                          pkgs/main --> anaconda\n",
      "\n",
      "\n",
      "\n",
      "Downloading and Extracting Packages\n",
      "\n",
      "openssl-1.1.1n       | 5.8 MB    |            |   0% \n",
      "openssl-1.1.1n       | 5.8 MB    |            |   0% \n",
      "openssl-1.1.1n       | 5.8 MB    | 6          |   6% \n",
      "openssl-1.1.1n       | 5.8 MB    | #4         |  15% \n",
      "openssl-1.1.1n       | 5.8 MB    | ###2       |  33% \n",
      "openssl-1.1.1n       | 5.8 MB    | #####7     |  58% \n",
      "openssl-1.1.1n       | 5.8 MB    | ######9    |  69% \n",
      "openssl-1.1.1n       | 5.8 MB    | #########6 |  97% \n",
      "openssl-1.1.1n       | 5.8 MB    | ########## | 100% \n",
      "\n",
      "python-3.8.13        | 19.8 MB   |            |   0% \n",
      "python-3.8.13        | 19.8 MB   |            |   0% \n",
      "python-3.8.13        | 19.8 MB   | 4          |   4% \n",
      "python-3.8.13        | 19.8 MB   | 8          |   8% \n",
      "python-3.8.13        | 19.8 MB   | #3         |  14% \n",
      "python-3.8.13        | 19.8 MB   | #8         |  19% \n",
      "python-3.8.13        | 19.8 MB   | ##2        |  23% \n",
      "python-3.8.13        | 19.8 MB   | ##7        |  28% \n",
      "python-3.8.13        | 19.8 MB   | ###2       |  32% \n",
      "python-3.8.13        | 19.8 MB   | ###6       |  37% \n",
      "python-3.8.13        | 19.8 MB   | ####1      |  42% \n",
      "python-3.8.13        | 19.8 MB   | ####6      |  47% \n",
      "python-3.8.13        | 19.8 MB   | #####2     |  53% \n",
      "python-3.8.13        | 19.8 MB   | ######     |  61% \n",
      "python-3.8.13        | 19.8 MB   | ######6    |  66% \n",
      "python-3.8.13        | 19.8 MB   | #######1   |  72% \n",
      "python-3.8.13        | 19.8 MB   | #######9   |  79% \n",
      "python-3.8.13        | 19.8 MB   | ########4  |  85% \n",
      "python-3.8.13        | 19.8 MB   | #########  |  90% \n",
      "python-3.8.13        | 19.8 MB   | #########5 |  96% \n",
      "python-3.8.13        | 19.8 MB   | ########## | 100% \n",
      "\n",
      "certifi-2021.10.8    | 156 KB    |            |   0% \n",
      "certifi-2021.10.8    | 156 KB    | ########## | 100% \n",
      "certifi-2021.10.8    | 156 KB    | ########## | 100% \n",
      "\n",
      "ca-certificates-2022 | 163 KB    |            |   0% \n",
      "ca-certificates-2022 | 163 KB    | ######8    |  69% \n",
      "ca-certificates-2022 | 163 KB    | ########## | 100% \n",
      "Preparing transaction: ...working... done\n",
      "Verifying transaction: ...working... done\n",
      "Executing transaction: ...working... done\n",
      "\n",
      "Note: you may need to restart the kernel to use updated packages.\n"
     ]
    }
   ],
   "source": [
    "conda install -c anaconda python"
   ]
  },
  {
   "cell_type": "code",
   "execution_count": 3,
   "metadata": {},
   "outputs": [
    {
     "name": "stdout",
     "output_type": "stream",
     "text": [
      "conda 4.12.0\n",
      "\n",
      "Note: you may need to restart the kernel to use updated packages.\n"
     ]
    }
   ],
   "source": [
    "conda --version"
   ]
  },
  {
   "cell_type": "code",
   "execution_count": 4,
   "metadata": {},
   "outputs": [
    {
     "name": "stdout",
     "output_type": "stream",
     "text": [
      "\n",
      "Note: you may need to restart the kernel to use updated packages.\n"
     ]
    },
    {
     "name": "stderr",
     "output_type": "stream",
     "text": [
      "\n",
      "PackageNotInstalledError: Package is not installed in prefix.\n",
      "  prefix: C:\\Anaconda3\\envs\\Arshad\n",
      "  package name: jupyter\n",
      "\n",
      "\n"
     ]
    }
   ],
   "source": []
  },
  {
   "cell_type": "code",
   "execution_count": 9,
   "metadata": {},
   "outputs": [
    {
     "name": "stdout",
     "output_type": "stream",
     "text": [
      "Collecting package metadata (current_repodata.json): ...working... done\n",
      "Solving environment: ...working... done\n",
      "\n",
      "# All requested packages already installed.\n",
      "\n",
      "\n",
      "Note: you may need to restart the kernel to use updated packages.\n"
     ]
    }
   ],
   "source": [
    "conda update --all"
   ]
  },
  {
   "cell_type": "code",
   "execution_count": 1,
   "metadata": {},
   "outputs": [
    {
     "name": "stdout",
     "output_type": "stream",
     "text": [
      "Requirement already satisfied: open3d in c:\\users\\mrg21-021411143\\appdata\\roaming\\python\\python38\\site-packages (0.15.1)\n",
      "Requirement already satisfied: pygments>=2.7.4 in c:\\anaconda3\\envs\\arshad\\lib\\site-packages (from open3d) (2.11.2)\n",
      "Requirement already satisfied: wheel>=0.36.0 in c:\\anaconda3\\envs\\arshad\\lib\\site-packages (from open3d) (0.37.1)\n",
      "Requirement already satisfied: jupyter-packaging~=0.10 in c:\\users\\mrg21-021411143\\appdata\\roaming\\python\\python38\\site-packages (from open3d) (0.12.0)\n",
      "Requirement already satisfied: jupyterlab==3.*,>=3.0.0 in c:\\users\\mrg21-021411143\\appdata\\roaming\\python\\python38\\site-packages (from open3d) (3.4.2)\n",
      "Requirement already satisfied: ipywidgets>=7.6.0 in c:\\anaconda3\\envs\\arshad\\lib\\site-packages (from open3d) (7.7.0)\n",
      "Requirement already satisfied: numpy>=1.18.0 in c:\\anaconda3\\envs\\arshad\\lib\\site-packages (from open3d) (1.22.3)\n",
      "Requirement already satisfied: setuptools>=40.8.0 in c:\\anaconda3\\envs\\arshad\\lib\\site-packages (from open3d) (61.2.0)\n",
      "Requirement already satisfied: jinja2>=2.1 in c:\\anaconda3\\envs\\arshad\\lib\\site-packages (from jupyterlab==3.*,>=3.0.0->open3d) (3.0.3)\n",
      "Requirement already satisfied: jupyterlab-server~=2.10 in c:\\users\\mrg21-021411143\\appdata\\roaming\\python\\python38\\site-packages (from jupyterlab==3.*,>=3.0.0->open3d) (2.14.0)\n",
      "Requirement already satisfied: jupyter-server~=1.16 in c:\\users\\mrg21-021411143\\appdata\\roaming\\python\\python38\\site-packages (from jupyterlab==3.*,>=3.0.0->open3d) (1.17.0)\n",
      "Requirement already satisfied: tornado>=6.1.0 in c:\\anaconda3\\envs\\arshad\\lib\\site-packages (from jupyterlab==3.*,>=3.0.0->open3d) (6.1)\n",
      "Requirement already satisfied: packaging in c:\\anaconda3\\envs\\arshad\\lib\\site-packages (from jupyterlab==3.*,>=3.0.0->open3d) (21.3)\n",
      "Requirement already satisfied: ipython in c:\\anaconda3\\envs\\arshad\\lib\\site-packages (from jupyterlab==3.*,>=3.0.0->open3d) (8.3.0)\n",
      "Requirement already satisfied: nbclassic~=0.2 in c:\\users\\mrg21-021411143\\appdata\\roaming\\python\\python38\\site-packages (from jupyterlab==3.*,>=3.0.0->open3d) (0.3.7)\n",
      "Requirement already satisfied: jupyter-core in c:\\anaconda3\\envs\\arshad\\lib\\site-packages (from jupyterlab==3.*,>=3.0.0->open3d) (4.10.0)\n",
      "Requirement already satisfied: traitlets>=4.3.1 in c:\\anaconda3\\envs\\arshad\\lib\\site-packages (from ipywidgets>=7.6.0->open3d) (5.1.1)\n",
      "Requirement already satisfied: nbformat>=4.2.0 in c:\\anaconda3\\envs\\arshad\\lib\\site-packages (from ipywidgets>=7.6.0->open3d) (5.3.0)\n",
      "Requirement already satisfied: ipykernel>=4.5.1 in c:\\anaconda3\\envs\\arshad\\lib\\site-packages (from ipywidgets>=7.6.0->open3d) (6.9.1)\n",
      "Requirement already satisfied: jupyterlab-widgets>=1.0.0 in c:\\anaconda3\\envs\\arshad\\lib\\site-packages (from ipywidgets>=7.6.0->open3d) (1.1.0)\n",
      "Requirement already satisfied: ipython-genutils~=0.2.0 in c:\\anaconda3\\envs\\arshad\\lib\\site-packages (from ipywidgets>=7.6.0->open3d) (0.2.0)\n",
      "Requirement already satisfied: widgetsnbextension~=3.6.0 in c:\\anaconda3\\envs\\arshad\\lib\\site-packages (from ipywidgets>=7.6.0->open3d) (3.6.0)\n",
      "Requirement already satisfied: debugpy<2.0,>=1.0.0 in c:\\anaconda3\\envs\\arshad\\lib\\site-packages (from ipykernel>=4.5.1->ipywidgets>=7.6.0->open3d) (1.5.1)\n",
      "Requirement already satisfied: jupyter-client<8.0 in c:\\users\\mrg21-021411143\\appdata\\roaming\\python\\python38\\site-packages (from ipykernel>=4.5.1->ipywidgets>=7.6.0->open3d) (7.3.1)\n",
      "Requirement already satisfied: matplotlib-inline<0.2.0,>=0.1.0 in c:\\anaconda3\\envs\\arshad\\lib\\site-packages (from ipykernel>=4.5.1->ipywidgets>=7.6.0->open3d) (0.1.2)\n",
      "Requirement already satisfied: nest-asyncio in c:\\users\\mrg21-021411143\\appdata\\roaming\\python\\python38\\site-packages (from ipykernel>=4.5.1->ipywidgets>=7.6.0->open3d) (1.5.5)\n",
      "Requirement already satisfied: stack-data in c:\\anaconda3\\envs\\arshad\\lib\\site-packages (from ipython->jupyterlab==3.*,>=3.0.0->open3d) (0.2.0)\n",
      "Requirement already satisfied: backcall in c:\\anaconda3\\envs\\arshad\\lib\\site-packages (from ipython->jupyterlab==3.*,>=3.0.0->open3d) (0.2.0)\n",
      "Requirement already satisfied: colorama in c:\\anaconda3\\envs\\arshad\\lib\\site-packages (from ipython->jupyterlab==3.*,>=3.0.0->open3d) (0.4.4)\n",
      "Requirement already satisfied: decorator in c:\\anaconda3\\envs\\arshad\\lib\\site-packages (from ipython->jupyterlab==3.*,>=3.0.0->open3d) (5.1.1)\n",
      "Requirement already satisfied: pickleshare in c:\\anaconda3\\envs\\arshad\\lib\\site-packages (from ipython->jupyterlab==3.*,>=3.0.0->open3d) (0.7.5)\n",
      "Requirement already satisfied: jedi>=0.16 in c:\\anaconda3\\envs\\arshad\\lib\\site-packages (from ipython->jupyterlab==3.*,>=3.0.0->open3d) (0.18.1)\n",
      "Requirement already satisfied: prompt-toolkit!=3.0.0,!=3.0.1,<3.1.0,>=2.0.0 in c:\\anaconda3\\envs\\arshad\\lib\\site-packages (from ipython->jupyterlab==3.*,>=3.0.0->open3d) (3.0.20)\n",
      "Requirement already satisfied: parso<0.9.0,>=0.8.0 in c:\\anaconda3\\envs\\arshad\\lib\\site-packages (from jedi>=0.16->ipython->jupyterlab==3.*,>=3.0.0->open3d) (0.8.3)\n",
      "Requirement already satisfied: MarkupSafe>=2.0 in c:\\anaconda3\\envs\\arshad\\lib\\site-packages (from jinja2>=2.1->jupyterlab==3.*,>=3.0.0->open3d) (2.0.1)\n",
      "Requirement already satisfied: entrypoints in c:\\anaconda3\\envs\\arshad\\lib\\site-packages (from jupyter-client<8.0->ipykernel>=4.5.1->ipywidgets>=7.6.0->open3d) (0.4)\n",
      "Requirement already satisfied: python-dateutil>=2.8.2 in c:\\anaconda3\\envs\\arshad\\lib\\site-packages (from jupyter-client<8.0->ipykernel>=4.5.1->ipywidgets>=7.6.0->open3d) (2.8.2)\n",
      "Requirement already satisfied: pyzmq>=22.3 in c:\\anaconda3\\envs\\arshad\\lib\\site-packages (from jupyter-client<8.0->ipykernel>=4.5.1->ipywidgets>=7.6.0->open3d) (22.3.0)\n",
      "Requirement already satisfied: pywin32>=1.0 in c:\\anaconda3\\envs\\arshad\\lib\\site-packages (from jupyter-core->jupyterlab==3.*,>=3.0.0->open3d) (302)\n",
      "Requirement already satisfied: deprecation in c:\\users\\mrg21-021411143\\appdata\\roaming\\python\\python38\\site-packages (from jupyter-packaging~=0.10->open3d) (2.1.0)\n",
      "Requirement already satisfied: tomlkit in c:\\users\\mrg21-021411143\\appdata\\roaming\\python\\python38\\site-packages (from jupyter-packaging~=0.10->open3d) (0.10.2)\n",
      "Requirement already satisfied: websocket-client in c:\\users\\mrg21-021411143\\appdata\\roaming\\python\\python38\\site-packages (from jupyter-server~=1.16->jupyterlab==3.*,>=3.0.0->open3d) (1.3.2)Note: you may need to restart the kernel to use updated packages.\n",
      "\n",
      "Requirement already satisfied: pywinpty in c:\\anaconda3\\envs\\arshad\\lib\\site-packages (from jupyter-server~=1.16->jupyterlab==3.*,>=3.0.0->open3d) (2.0.2)\n",
      "Requirement already satisfied: nbconvert>=6.4.4 in c:\\users\\mrg21-021411143\\appdata\\roaming\\python\\python38\\site-packages (from jupyter-server~=1.16->jupyterlab==3.*,>=3.0.0->open3d) (6.5.0)\n",
      "Requirement already satisfied: Send2Trash in c:\\anaconda3\\envs\\arshad\\lib\\site-packages (from jupyter-server~=1.16->jupyterlab==3.*,>=3.0.0->open3d) (1.8.0)\n",
      "Requirement already satisfied: argon2-cffi in c:\\users\\mrg21-021411143\\appdata\\roaming\\python\\python38\\site-packages (from jupyter-server~=1.16->jupyterlab==3.*,>=3.0.0->open3d) (21.3.0)\n",
      "Requirement already satisfied: terminado>=0.8.3 in c:\\anaconda3\\envs\\arshad\\lib\\site-packages (from jupyter-server~=1.16->jupyterlab==3.*,>=3.0.0->open3d) (0.13.1)\n",
      "Requirement already satisfied: anyio<4,>=3.1.0 in c:\\users\\mrg21-021411143\\appdata\\roaming\\python\\python38\\site-packages (from jupyter-server~=1.16->jupyterlab==3.*,>=3.0.0->open3d) (3.6.1)\n",
      "Requirement already satisfied: prometheus-client in c:\\anaconda3\\envs\\arshad\\lib\\site-packages (from jupyter-server~=1.16->jupyterlab==3.*,>=3.0.0->open3d) (0.13.1)\n",
      "Requirement already satisfied: idna>=2.8 in c:\\anaconda3\\envs\\arshad\\lib\\site-packages (from anyio<4,>=3.1.0->jupyter-server~=1.16->jupyterlab==3.*,>=3.0.0->open3d) (3.3)\n",
      "Requirement already satisfied: sniffio>=1.1 in c:\\users\\mrg21-021411143\\appdata\\roaming\\python\\python38\\site-packages (from anyio<4,>=3.1.0->jupyter-server~=1.16->jupyterlab==3.*,>=3.0.0->open3d) (1.2.0)\n",
      "Requirement already satisfied: jsonschema>=3.0.1 in c:\\anaconda3\\envs\\arshad\\lib\\site-packages (from jupyterlab-server~=2.10->jupyterlab==3.*,>=3.0.0->open3d) (4.4.0)\n",
      "Requirement already satisfied: importlib-metadata>=3.6 in c:\\users\\mrg21-021411143\\appdata\\roaming\\python\\python38\\site-packages (from jupyterlab-server~=2.10->jupyterlab==3.*,>=3.0.0->open3d) (4.11.3)\n",
      "Requirement already satisfied: babel in c:\\anaconda3\\envs\\arshad\\lib\\site-packages (from jupyterlab-server~=2.10->jupyterlab==3.*,>=3.0.0->open3d) (2.10.1)\n",
      "Requirement already satisfied: requests in c:\\anaconda3\\envs\\arshad\\lib\\site-packages (from jupyterlab-server~=2.10->jupyterlab==3.*,>=3.0.0->open3d) (2.27.1)\n",
      "Requirement already satisfied: json5 in c:\\anaconda3\\envs\\arshad\\lib\\site-packages (from jupyterlab-server~=2.10->jupyterlab==3.*,>=3.0.0->open3d) (0.9.8)\n",
      "Requirement already satisfied: zipp>=0.5 in c:\\anaconda3\\envs\\arshad\\lib\\site-packages (from importlib-metadata>=3.6->jupyterlab-server~=2.10->jupyterlab==3.*,>=3.0.0->open3d) (3.8.0)\n",
      "Requirement already satisfied: importlib-resources>=1.4.0 in c:\\anaconda3\\envs\\arshad\\lib\\site-packages (from jsonschema>=3.0.1->jupyterlab-server~=2.10->jupyterlab==3.*,>=3.0.0->open3d) (5.2.0)\n",
      "Requirement already satisfied: pyrsistent!=0.17.0,!=0.17.1,!=0.17.2,>=0.14.0 in c:\\anaconda3\\envs\\arshad\\lib\\site-packages (from jsonschema>=3.0.1->jupyterlab-server~=2.10->jupyterlab==3.*,>=3.0.0->open3d) (0.18.0)\n",
      "Requirement already satisfied: attrs>=17.4.0 in c:\\anaconda3\\envs\\arshad\\lib\\site-packages (from jsonschema>=3.0.1->jupyterlab-server~=2.10->jupyterlab==3.*,>=3.0.0->open3d) (21.4.0)\n",
      "Requirement already satisfied: notebook-shim>=0.1.0 in c:\\users\\mrg21-021411143\\appdata\\roaming\\python\\python38\\site-packages (from nbclassic~=0.2->jupyterlab==3.*,>=3.0.0->open3d) (0.1.0)\n",
      "Requirement already satisfied: notebook<7 in c:\\anaconda3\\envs\\arshad\\lib\\site-packages (from nbclassic~=0.2->jupyterlab==3.*,>=3.0.0->open3d) (6.4.11)\n",
      "Requirement already satisfied: tinycss2 in c:\\users\\mrg21-021411143\\appdata\\roaming\\python\\python38\\site-packages (from nbconvert>=6.4.4->jupyter-server~=1.16->jupyterlab==3.*,>=3.0.0->open3d) (1.1.1)\n",
      "Requirement already satisfied: jupyterlab-pygments in c:\\users\\mrg21-021411143\\appdata\\roaming\\python\\python38\\site-packages (from nbconvert>=6.4.4->jupyter-server~=1.16->jupyterlab==3.*,>=3.0.0->open3d) (0.2.2)\n",
      "Requirement already satisfied: mistune<2,>=0.8.1 in c:\\anaconda3\\envs\\arshad\\lib\\site-packages (from nbconvert>=6.4.4->jupyter-server~=1.16->jupyterlab==3.*,>=3.0.0->open3d) (0.8.4)\n",
      "Requirement already satisfied: pandocfilters>=1.4.1 in c:\\anaconda3\\envs\\arshad\\lib\\site-packages (from nbconvert>=6.4.4->jupyter-server~=1.16->jupyterlab==3.*,>=3.0.0->open3d) (1.5.0)\n",
      "Requirement already satisfied: nbclient>=0.5.0 in c:\\users\\mrg21-021411143\\appdata\\roaming\\python\\python38\\site-packages (from nbconvert>=6.4.4->jupyter-server~=1.16->jupyterlab==3.*,>=3.0.0->open3d) (0.6.3)\n",
      "Requirement already satisfied: defusedxml in c:\\anaconda3\\envs\\arshad\\lib\\site-packages (from nbconvert>=6.4.4->jupyter-server~=1.16->jupyterlab==3.*,>=3.0.0->open3d) (0.7.1)\n",
      "Requirement already satisfied: bleach in c:\\anaconda3\\envs\\arshad\\lib\\site-packages (from nbconvert>=6.4.4->jupyter-server~=1.16->jupyterlab==3.*,>=3.0.0->open3d) (4.1.0)\n",
      "Requirement already satisfied: beautifulsoup4 in c:\\anaconda3\\envs\\arshad\\lib\\site-packages (from nbconvert>=6.4.4->jupyter-server~=1.16->jupyterlab==3.*,>=3.0.0->open3d) (4.11.1)\n",
      "Requirement already satisfied: fastjsonschema in c:\\anaconda3\\envs\\arshad\\lib\\site-packages (from nbformat>=4.2.0->ipywidgets>=7.6.0->open3d) (2.15.1)\n",
      "Requirement already satisfied: wcwidth in c:\\anaconda3\\envs\\arshad\\lib\\site-packages (from prompt-toolkit!=3.0.0,!=3.0.1,<3.1.0,>=2.0.0->ipython->jupyterlab==3.*,>=3.0.0->open3d) (0.2.5)\n",
      "Requirement already satisfied: six>=1.5 in c:\\anaconda3\\envs\\arshad\\lib\\site-packages (from python-dateutil>=2.8.2->jupyter-client<8.0->ipykernel>=4.5.1->ipywidgets>=7.6.0->open3d) (1.16.0)\n",
      "Requirement already satisfied: argon2-cffi-bindings in c:\\users\\mrg21-021411143\\appdata\\roaming\\python\\python38\\site-packages (from argon2-cffi->jupyter-server~=1.16->jupyterlab==3.*,>=3.0.0->open3d) (21.2.0)\n",
      "Requirement already satisfied: cffi>=1.0.1 in c:\\anaconda3\\envs\\arshad\\lib\\site-packages (from argon2-cffi-bindings->argon2-cffi->jupyter-server~=1.16->jupyterlab==3.*,>=3.0.0->open3d) (1.15.0)\n",
      "Requirement already satisfied: pycparser in c:\\anaconda3\\envs\\arshad\\lib\\site-packages (from cffi>=1.0.1->argon2-cffi-bindings->argon2-cffi->jupyter-server~=1.16->jupyterlab==3.*,>=3.0.0->open3d) (2.21)\n",
      "Requirement already satisfied: pytz>=2015.7 in c:\\anaconda3\\envs\\arshad\\lib\\site-packages (from babel->jupyterlab-server~=2.10->jupyterlab==3.*,>=3.0.0->open3d) (2022.1)\n",
      "Requirement already satisfied: soupsieve>1.2 in c:\\anaconda3\\envs\\arshad\\lib\\site-packages (from beautifulsoup4->nbconvert>=6.4.4->jupyter-server~=1.16->jupyterlab==3.*,>=3.0.0->open3d) (2.3.1)\n",
      "Requirement already satisfied: webencodings in c:\\anaconda3\\envs\\arshad\\lib\\site-packages (from bleach->nbconvert>=6.4.4->jupyter-server~=1.16->jupyterlab==3.*,>=3.0.0->open3d) (0.5.1)\n",
      "Requirement already satisfied: pyparsing!=3.0.5,>=2.0.2 in c:\\anaconda3\\envs\\arshad\\lib\\site-packages (from packaging->jupyterlab==3.*,>=3.0.0->open3d) (3.0.4)\n",
      "Requirement already satisfied: urllib3<1.27,>=1.21.1 in c:\\anaconda3\\envs\\arshad\\lib\\site-packages (from requests->jupyterlab-server~=2.10->jupyterlab==3.*,>=3.0.0->open3d) (1.26.9)\n",
      "Requirement already satisfied: certifi>=2017.4.17 in c:\\anaconda3\\envs\\arshad\\lib\\site-packages (from requests->jupyterlab-server~=2.10->jupyterlab==3.*,>=3.0.0->open3d) (2021.10.8)\n",
      "Requirement already satisfied: charset-normalizer~=2.0.0 in c:\\anaconda3\\envs\\arshad\\lib\\site-packages (from requests->jupyterlab-server~=2.10->jupyterlab==3.*,>=3.0.0->open3d) (2.0.12)\n",
      "Requirement already satisfied: pure-eval in c:\\anaconda3\\envs\\arshad\\lib\\site-packages (from stack-data->ipython->jupyterlab==3.*,>=3.0.0->open3d) (0.2.2)\n",
      "Requirement already satisfied: executing in c:\\anaconda3\\envs\\arshad\\lib\\site-packages (from stack-data->ipython->jupyterlab==3.*,>=3.0.0->open3d) (0.8.3)\n",
      "Requirement already satisfied: asttokens in c:\\anaconda3\\envs\\arshad\\lib\\site-packages (from stack-data->ipython->jupyterlab==3.*,>=3.0.0->open3d) (2.0.5)\n"
     ]
    }
   ],
   "source": [
    "pip install open3d"
   ]
  },
  {
   "cell_type": "code",
   "execution_count": 2,
   "metadata": {},
   "outputs": [
    {
     "name": "stdout",
     "output_type": "stream",
     "text": [
      "Collecting jupyter\n",
      "  Downloading jupyter-1.0.0-py2.py3-none-any.whl (2.7 kB)\n",
      "Requirement already satisfied: ipywidgets in c:\\anaconda3\\envs\\arshad\\lib\\site-packages (from jupyter) (7.7.0)\n",
      "Collecting qtconsole\n",
      "  Downloading qtconsole-5.3.0-py3-none-any.whl (120 kB)\n",
      "Collecting jupyter-console\n",
      "  Downloading jupyter_console-6.4.3-py3-none-any.whl (22 kB)\n",
      "Requirement already satisfied: notebook in c:\\anaconda3\\envs\\arshad\\lib\\site-packages (from jupyter) (6.4.11)\n",
      "Requirement already satisfied: nbconvert in c:\\users\\mrg21-021411143\\appdata\\roaming\\python\\python38\\site-packages (from jupyter) (6.5.0)\n",
      "Requirement already satisfied: ipykernel in c:\\anaconda3\\envs\\arshad\\lib\\site-packages (from jupyter) (6.9.1)\n",
      "Requirement already satisfied: debugpy<2.0,>=1.0.0 in c:\\anaconda3\\envs\\arshad\\lib\\site-packages (from ipykernel->jupyter) (1.5.1)\n",
      "Requirement already satisfied: tornado<7.0,>=4.2 in c:\\anaconda3\\envs\\arshad\\lib\\site-packages (from ipykernel->jupyter) (6.1)\n",
      "Requirement already satisfied: matplotlib-inline<0.2.0,>=0.1.0 in c:\\anaconda3\\envs\\arshad\\lib\\site-packages (from ipykernel->jupyter) (0.1.2)\n",
      "Requirement already satisfied: ipython>=7.23.1 in c:\\anaconda3\\envs\\arshad\\lib\\site-packages (from ipykernel->jupyter) (8.3.0)\n",
      "Requirement already satisfied: traitlets<6.0,>=5.1.0 in c:\\anaconda3\\envs\\arshad\\lib\\site-packages (from ipykernel->jupyter) (5.1.1)\n",
      "Requirement already satisfied: nest-asyncio in c:\\users\\mrg21-021411143\\appdata\\roaming\\python\\python38\\site-packages (from ipykernel->jupyter) (1.5.5)\n",
      "Requirement already satisfied: jupyter-client<8.0 in c:\\users\\mrg21-021411143\\appdata\\roaming\\python\\python38\\site-packages (from ipykernel->jupyter) (7.3.1)\n",
      "Requirement already satisfied: decorator in c:\\anaconda3\\envs\\arshad\\lib\\site-packages (from ipython>=7.23.1->ipykernel->jupyter) (5.1.1)\n",
      "Requirement already satisfied: jedi>=0.16 in c:\\anaconda3\\envs\\arshad\\lib\\site-packages (from ipython>=7.23.1->ipykernel->jupyter) (0.18.1)\n",
      "Requirement already satisfied: stack-data in c:\\anaconda3\\envs\\arshad\\lib\\site-packages (from ipython>=7.23.1->ipykernel->jupyter) (0.2.0)\n",
      "Requirement already satisfied: backcall in c:\\anaconda3\\envs\\arshad\\lib\\site-packages (from ipython>=7.23.1->ipykernel->jupyter) (0.2.0)\n",
      "Requirement already satisfied: setuptools>=18.5 in c:\\anaconda3\\envs\\arshad\\lib\\site-packages (from ipython>=7.23.1->ipykernel->jupyter) (61.2.0)\n",
      "Requirement already satisfied: pickleshare in c:\\anaconda3\\envs\\arshad\\lib\\site-packages (from ipython>=7.23.1->ipykernel->jupyter) (0.7.5)\n",
      "Requirement already satisfied: prompt-toolkit!=3.0.0,!=3.0.1,<3.1.0,>=2.0.0 in c:\\anaconda3\\envs\\arshad\\lib\\site-packages (from ipython>=7.23.1->ipykernel->jupyter) (3.0.20)\n",
      "Requirement already satisfied: pygments>=2.4.0 in c:\\anaconda3\\envs\\arshad\\lib\\site-packages (from ipython>=7.23.1->ipykernel->jupyter) (2.11.2)\n",
      "Requirement already satisfied: colorama in c:\\anaconda3\\envs\\arshad\\lib\\site-packages (from ipython>=7.23.1->ipykernel->jupyter) (0.4.4)\n",
      "Requirement already satisfied: parso<0.9.0,>=0.8.0 in c:\\anaconda3\\envs\\arshad\\lib\\site-packages (from jedi>=0.16->ipython>=7.23.1->ipykernel->jupyter) (0.8.3)\n",
      "Requirement already satisfied: jupyter-core>=4.9.2 in c:\\anaconda3\\envs\\arshad\\lib\\site-packages (from jupyter-client<8.0->ipykernel->jupyter) (4.10.0)\n",
      "Requirement already satisfied: entrypoints in c:\\anaconda3\\envs\\arshad\\lib\\site-packages (from jupyter-client<8.0->ipykernel->jupyter) (0.4)\n",
      "Requirement already satisfied: python-dateutil>=2.8.2 in c:\\anaconda3\\envs\\arshad\\lib\\site-packages (from jupyter-client<8.0->ipykernel->jupyter) (2.8.2)\n",
      "Requirement already satisfied: pyzmq>=22.3 in c:\\anaconda3\\envs\\arshad\\lib\\site-packages (from jupyter-client<8.0->ipykernel->jupyter) (22.3.0)\n",
      "Requirement already satisfied: pywin32>=1.0 in c:\\anaconda3\\envs\\arshad\\lib\\site-packages (from jupyter-core>=4.9.2->jupyter-client<8.0->ipykernel->jupyter) (302)\n",
      "Requirement already satisfied: wcwidth in c:\\anaconda3\\envs\\arshad\\lib\\site-packages (from prompt-toolkit!=3.0.0,!=3.0.1,<3.1.0,>=2.0.0->ipython>=7.23.1->ipykernel->jupyter) (0.2.5)\n",
      "Requirement already satisfied: six>=1.5 in c:\\anaconda3\\envs\\arshad\\lib\\site-packages (from python-dateutil>=2.8.2->jupyter-client<8.0->ipykernel->jupyter) (1.16.0)\n",
      "Requirement already satisfied: widgetsnbextension~=3.6.0 in c:\\anaconda3\\envs\\arshad\\lib\\site-packages (from ipywidgets->jupyter) (3.6.0)\n",
      "Requirement already satisfied: nbformat>=4.2.0 in c:\\anaconda3\\envs\\arshad\\lib\\site-packages (from ipywidgets->jupyter) (5.3.0)\n",
      "Requirement already satisfied: ipython-genutils~=0.2.0 in c:\\anaconda3\\envs\\arshad\\lib\\site-packages (from ipywidgets->jupyter) (0.2.0)\n",
      "Requirement already satisfied: jupyterlab-widgets>=1.0.0 in c:\\anaconda3\\envs\\arshad\\lib\\site-packages (from ipywidgets->jupyter) (1.1.0)\n",
      "Requirement already satisfied: fastjsonschema in c:\\anaconda3\\envs\\arshad\\lib\\site-packages (from nbformat>=4.2.0->ipywidgets->jupyter) (2.15.1)\n",
      "Requirement already satisfied: jsonschema>=2.6 in c:\\anaconda3\\envs\\arshad\\lib\\site-packages (from nbformat>=4.2.0->ipywidgets->jupyter) (4.4.0)\n",
      "Requirement already satisfied: pyrsistent!=0.17.0,!=0.17.1,!=0.17.2,>=0.14.0 in c:\\anaconda3\\envs\\arshad\\lib\\site-packages (from jsonschema>=2.6->nbformat>=4.2.0->ipywidgets->jupyter) (0.18.0)\n",
      "Requirement already satisfied: importlib-resources>=1.4.0 in c:\\anaconda3\\envs\\arshad\\lib\\site-packages (from jsonschema>=2.6->nbformat>=4.2.0->ipywidgets->jupyter) (5.2.0)\n",
      "Requirement already satisfied: attrs>=17.4.0 in c:\\anaconda3\\envs\\arshad\\lib\\site-packages (from jsonschema>=2.6->nbformat>=4.2.0->ipywidgets->jupyter) (21.4.0)\n",
      "Requirement already satisfied: zipp>=3.1.0 in c:\\anaconda3\\envs\\arshad\\lib\\site-packages (from importlib-resources>=1.4.0->jsonschema>=2.6->nbformat>=4.2.0->ipywidgets->jupyter) (3.8.0)\n",
      "Requirement already satisfied: jinja2 in c:\\anaconda3\\envs\\arshad\\lib\\site-packages (from notebook->jupyter) (3.0.3)\n",
      "Requirement already satisfied: Send2Trash>=1.8.0 in c:\\anaconda3\\envs\\arshad\\lib\\site-packages (from notebook->jupyter) (1.8.0)\n",
      "Requirement already satisfied: terminado>=0.8.3 in c:\\anaconda3\\envs\\arshad\\lib\\site-packages (from notebook->jupyter) (0.13.1)\n",
      "Requirement already satisfied: argon2-cffi in c:\\users\\mrg21-021411143\\appdata\\roaming\\python\\python38\\site-packages (from notebook->jupyter) (21.3.0)\n",
      "Requirement already satisfied: prometheus-client in c:\\anaconda3\\envs\\arshad\\lib\\site-packages (from notebook->jupyter) (0.13.1)\n",
      "Requirement already satisfied: nbclient>=0.5.0 in c:\\users\\mrg21-021411143\\appdata\\roaming\\python\\python38\\site-packages (from nbconvert->jupyter) (0.6.3)\n",
      "Requirement already satisfied: packaging in c:\\anaconda3\\envs\\arshad\\lib\\site-packages (from nbconvert->jupyter) (21.3)\n",
      "Requirement already satisfied: tinycss2 in c:\\users\\mrg21-021411143\\appdata\\roaming\\python\\python38\\site-packages (from nbconvert->jupyter) (1.1.1)\n",
      "Requirement already satisfied: defusedxml in c:\\anaconda3\\envs\\arshad\\lib\\site-packages (from nbconvert->jupyter) (0.7.1)\n",
      "Requirement already satisfied: MarkupSafe>=2.0 in c:\\anaconda3\\envs\\arshad\\lib\\site-packages (from nbconvert->jupyter) (2.0.1)\n",
      "Requirement already satisfied: jupyterlab-pygments in c:\\users\\mrg21-021411143\\appdata\\roaming\\python\\python38\\site-packages (from nbconvert->jupyter) (0.2.2)\n",
      "Requirement already satisfied: mistune<2,>=0.8.1 in c:\\anaconda3\\envs\\arshad\\lib\\site-packages (from nbconvert->jupyter) (0.8.4)\n",
      "Requirement already satisfied: pandocfilters>=1.4.1 in c:\\anaconda3\\envs\\arshad\\lib\\site-packages (from nbconvert->jupyter) (1.5.0)\n",
      "Requirement already satisfied: bleach in c:\\anaconda3\\envs\\arshad\\lib\\site-packages (from nbconvert->jupyter) (4.1.0)\n",
      "Requirement already satisfied: beautifulsoup4 in c:\\anaconda3\\envs\\arshad\\lib\\site-packages (from nbconvert->jupyter) (4.11.1)\n",
      "Requirement already satisfied: pywinpty>=1.1.0 in c:\\anaconda3\\envs\\arshad\\lib\\site-packages (from terminado>=0.8.3->notebook->jupyter) (2.0.2)\n",
      "Requirement already satisfied: argon2-cffi-bindings in c:\\users\\mrg21-021411143\\appdata\\roaming\\python\\python38\\site-packages (from argon2-cffi->notebook->jupyter) (21.2.0)\n",
      "Requirement already satisfied: cffi>=1.0.1 in c:\\anaconda3\\envs\\arshad\\lib\\site-packages (from argon2-cffi-bindings->argon2-cffi->notebook->jupyter) (1.15.0)\n",
      "Requirement already satisfied: pycparser in c:\\anaconda3\\envs\\arshad\\lib\\site-packages (from cffi>=1.0.1->argon2-cffi-bindings->argon2-cffi->notebook->jupyter) (2.21)\n",
      "Requirement already satisfied: soupsieve>1.2 in c:\\anaconda3\\envs\\arshad\\lib\\site-packages (from beautifulsoup4->nbconvert->jupyter) (2.3.1)\n",
      "Requirement already satisfied: webencodings in c:\\anaconda3\\envs\\arshad\\lib\\site-packages (from bleach->nbconvert->jupyter) (0.5.1)\n",
      "Requirement already satisfied: pyparsing!=3.0.5,>=2.0.2 in c:\\anaconda3\\envs\\arshad\\lib\\site-packages (from packaging->nbconvert->jupyter) (3.0.4)\n",
      "Collecting qtpy>=2.0.1\n",
      "  Downloading QtPy-2.1.0-py3-none-any.whl (68 kB)\n",
      "Requirement already satisfied: asttokens in c:\\anaconda3\\envs\\arshad\\lib\\site-packages (from stack-data->ipython>=7.23.1->ipykernel->jupyter) (2.0.5)\n",
      "Requirement already satisfied: pure-eval in c:\\anaconda3\\envs\\arshad\\lib\\site-packages (from stack-data->ipython>=7.23.1->ipykernel->jupyter) (0.2.2)\n",
      "Requirement already satisfied: executing in c:\\anaconda3\\envs\\arshad\\lib\\site-packages (from stack-data->ipython>=7.23.1->ipykernel->jupyter) (0.8.3)\n",
      "Installing collected packages: qtpy, qtconsole, jupyter-console, jupyter\n",
      "Successfully installed jupyter-1.0.0 jupyter-console-6.4.3 qtconsole-5.3.0 qtpy-2.1.0\n"
     ]
    }
   ],
   "source": [
    "!pip install -U jupyter"
   ]
  },
  {
   "cell_type": "code",
   "execution_count": 52,
   "metadata": {},
   "outputs": [
    {
     "name": "stdout",
     "output_type": "stream",
     "text": [
      "Collecting matplotlib\n",
      "  Downloading matplotlib-3.5.2-cp38-cp38-win_amd64.whl (7.2 MB)\n",
      "Requirement already satisfied: numpy>=1.17 in c:\\anaconda3\\envs\\arshad\\lib\\site-packages (from matplotlib) (1.22.3)\n",
      "Collecting fonttools>=4.22.0\n",
      "  Downloading fonttools-4.33.3-py3-none-any.whl (930 kB)\n",
      "Requirement already satisfied: pyparsing>=2.2.1 in c:\\anaconda3\\envs\\arshad\\lib\\site-packages (from matplotlib) (3.0.4)\n",
      "Collecting kiwisolver>=1.0.1\n",
      "  Downloading kiwisolver-1.4.2-cp38-cp38-win_amd64.whl (55 kB)\n",
      "Collecting cycler>=0.10\n",
      "  Downloading cycler-0.11.0-py3-none-any.whl (6.4 kB)\n",
      "Collecting pillow>=6.2.0\n",
      "  Downloading Pillow-9.1.1-cp38-cp38-win_amd64.whl (3.3 MB)\n",
      "Requirement already satisfied: python-dateutil>=2.7 in c:\\anaconda3\\envs\\arshad\\lib\\site-packages (from matplotlib) (2.8.2)\n",
      "Requirement already satisfied: packaging>=20.0 in c:\\anaconda3\\envs\\arshad\\lib\\site-packages (from matplotlib) (21.3)\n",
      "Requirement already satisfied: six>=1.5 in c:\\anaconda3\\envs\\arshad\\lib\\site-packages (from python-dateutil>=2.7->matplotlib) (1.16.0)\n",
      "Installing collected packages: pillow, kiwisolver, fonttools, cycler, matplotlib\n",
      "Successfully installed cycler-0.11.0 fonttools-4.33.3 kiwisolver-1.4.2 matplotlib-3.5.2 pillow-9.1.1\n",
      "Note: you may need to restart the kernel to use updated packages.\n"
     ]
    }
   ],
   "source": [
    "pip install matplotlib"
   ]
  },
  {
   "cell_type": "code",
   "execution_count": 4,
   "metadata": {},
   "outputs": [],
   "source": [
    "from matplotlib import pyplot as plt"
   ]
  },
  {
   "cell_type": "code",
   "execution_count": 21,
   "metadata": {},
   "outputs": [],
   "source": [
    "import open3d as o3d\n",
    "import numpy as np\n",
    "import copy\n",
    "# installing library packages"
   ]
  },
  {
   "cell_type": "code",
   "execution_count": 5,
   "metadata": {},
   "outputs": [
    {
     "name": "stdout",
     "output_type": "stream",
     "text": [
      "0.15.1\n"
     ]
    }
   ],
   "source": [
    "print(o3d.__version__)"
   ]
  },
  {
   "cell_type": "code",
   "execution_count": 29,
   "metadata": {},
   "outputs": [],
   "source": [
    "epc = o3d.data.EaglePointCloud()"
   ]
  },
  {
   "cell_type": "code",
   "execution_count": 30,
   "metadata": {},
   "outputs": [
    {
     "name": "stdout",
     "output_type": "stream",
     "text": [
      "PointCloud with 796825 points.\n"
     ]
    }
   ],
   "source": [
    "# Reading Eagle pointcloud data\n",
    "pcd = o3d.io.read_point_cloud(epc.path)\n",
    "print(pcd)"
   ]
  },
  {
   "cell_type": "code",
   "execution_count": 31,
   "metadata": {},
   "outputs": [
    {
     "name": "stdout",
     "output_type": "stream",
     "text": [
      "[[ 1.65400004 -1.46826994 -0.31431001]\n",
      " [ 1.50960004 -1.35871005 -0.21705499]\n",
      " [ 1.53243995 -1.37502003 -0.25441799]\n",
      " ...\n",
      " [-0.59143698  6.5634799  -0.80171502]\n",
      " [-0.62709498  6.5717802  -0.80512601]\n",
      " [ 1.90862     2.78765988  4.23962021]]\n"
     ]
    }
   ],
   "source": [
    "print(np.asarray(pcd.points))\n",
    "o3d.visualization.draw_geometries([pcd],\n",
    "                                  zoom=0.3412,\n",
    "                                  front=[0.4257, -0.2125, -0.8795],\n",
    "                                  lookat=[2.6172, 2.0475, 1.532],\n",
    "                                  up=[-0.0694, -0.9768, 0.2024])"
   ]
  },
  {
   "cell_type": "code",
   "execution_count": 32,
   "metadata": {},
   "outputs": [
    {
     "name": "stdout",
     "output_type": "stream",
     "text": [
      "C:\\Users\\mrg21-021411143/open3d_data/extract/EaglePointCloud/EaglePointCloud.ply\n"
     ]
    }
   ],
   "source": [
    "print(epc.path)"
   ]
  },
  {
   "cell_type": "code",
   "execution_count": 13,
   "metadata": {},
   "outputs": [
    {
     "name": "stdout",
     "output_type": "stream",
     "text": [
      "PointCloud with 1440 points.\n"
     ]
    }
   ],
   "source": [
    "#Reading KnotMesh Poincloud \n",
    "KM = o3d.data.KnotMesh()\n",
    "pcd1 = o3d.io.read_point_cloud(KM.path)\n",
    "print(pcd1)"
   ]
  },
  {
   "cell_type": "code",
   "execution_count": 11,
   "metadata": {},
   "outputs": [
    {
     "name": "stdout",
     "output_type": "stream",
     "text": [
      "[[  4.51268387  28.68865967 -76.55680847]\n",
      " [  7.63622284  35.52046967 -69.78063965]\n",
      " [  6.21986008  44.22465134 -64.82303619]\n",
      " ...\n",
      " [-22.12651634  31.28466606 -87.37570953]\n",
      " [-13.91188431  25.4865818  -86.25827026]\n",
      " [ -5.27768707  23.36245346 -81.43279266]]\n"
     ]
    }
   ],
   "source": [
    "print(np.asarray(pcd1.points))\n",
    "o3d.visualization.draw_geometries([pcd1])"
   ]
  },
  {
   "cell_type": "code",
   "execution_count": 12,
   "metadata": {},
   "outputs": [],
   "source": [
    "o3d.visualization.draw_geometries([pcd, pcd1])"
   ]
  },
  {
   "cell_type": "code",
   "execution_count": 14,
   "metadata": {},
   "outputs": [
    {
     "name": "stdout",
     "output_type": "stream",
     "text": [
      "TriangleMesh with 1440 points and 2880 triangles.\n"
     ]
    },
    {
     "data": {
      "text/plain": [
       "TriangleMesh with 1440 points and 2880 triangles."
      ]
     },
     "execution_count": 14,
     "metadata": {},
     "output_type": "execute_result"
    }
   ],
   "source": [
    "# Surface normal estimation\n",
    "mesh = o3d.io.read_triangle_mesh(KM.path)\n",
    "print(mesh)\n",
    "mesh.compute_vertex_normals()"
   ]
  },
  {
   "cell_type": "code",
   "execution_count": 33,
   "metadata": {
    "scrolled": true
   },
   "outputs": [
    {
     "name": "stdout",
     "output_type": "stream",
     "text": [
      "[Open3D WARNING] geometry::TriangleMesh appears to be a geometry::PointCloud (only contains vertices, but no triangles).\n",
      "TriangleMesh with 796825 points and 0 triangles.\n"
     ]
    },
    {
     "data": {
      "text/plain": [
       "TriangleMesh with 796825 points and 0 triangles."
      ]
     },
     "execution_count": 33,
     "metadata": {},
     "output_type": "execute_result"
    }
   ],
   "source": [
    "epc_mesh = o3d.io.read_triangle_mesh(epc.path)\n",
    "print(epc_mesh)\n",
    "epc_mesh.compute_vertex_normals()"
   ]
  },
  {
   "cell_type": "code",
   "execution_count": 15,
   "metadata": {},
   "outputs": [
    {
     "name": "stdout",
     "output_type": "stream",
     "text": [
      "TriangleMesh with 1440 points and 2880 triangles.\n",
      "Vertices:\n",
      "[[  4.51268387  28.68865967 -76.55680847]\n",
      " [  7.63622284  35.52046967 -69.78063965]\n",
      " [  6.21986008  44.22465134 -64.82303619]\n",
      " ...\n",
      " [-22.12651634  31.28466606 -87.37570953]\n",
      " [-13.91188431  25.4865818  -86.25827026]\n",
      " [ -5.27768707  23.36245346 -81.43279266]]\n",
      "Triangles:\n",
      "[[   0   12   13]\n",
      " [   0   13    1]\n",
      " [   1   13   14]\n",
      " ...\n",
      " [1438   11 1439]\n",
      " [1439   11    0]\n",
      " [1439    0 1428]]\n"
     ]
    }
   ],
   "source": [
    "print(mesh)\n",
    "print('Vertices:')\n",
    "print(np.asarray(mesh.vertices))\n",
    "print('Triangles:')\n",
    "print(np.asarray(mesh.triangles))"
   ]
  },
  {
   "cell_type": "code",
   "execution_count": 16,
   "metadata": {},
   "outputs": [
    {
     "name": "stdout",
     "output_type": "stream",
     "text": [
      "TrueFalse\n"
     ]
    },
    {
     "data": {
      "text/plain": [
       "'print(\"Try to render a mesh with normals (exist: \" +\\n      str(mesh.has_vertex_normals()) + \") and colors (exist: \" +\\n      str(mesh.has_vertex_colors()) + \")\")\\no3d.visualization.draw_geometries([mesh])\\nprint(\"A mesh with no normals and no colors does not look good.\")'"
      ]
     },
     "execution_count": 16,
     "metadata": {},
     "output_type": "execute_result"
    }
   ],
   "source": [
    "# Visualize a 3D mesh\n",
    "# Computing normal and rendering it\n",
    "\n",
    "print(str(mesh.has_vertex_normals())+str(mesh.has_vertex_colors()))\n",
    "o3d.visualization.draw_geometries([mesh])\n",
    "\n",
    "# Actual code for the same\n",
    "\"\"\"print(\"Try to render a mesh with normals (exist: \" +\n",
    "      str(mesh.has_vertex_normals()) + \") and colors (exist: \" +\n",
    "      str(mesh.has_vertex_colors()) + \")\")\n",
    "o3d.visualization.draw_geometries([mesh])\n",
    "print(\"A mesh with no normals and no colors does not look good.\")\"\"\""
   ]
  },
  {
   "cell_type": "code",
   "execution_count": 22,
   "metadata": {},
   "outputs": [
    {
     "name": "stdout",
     "output_type": "stream",
     "text": [
      "std::vector<Eigen::Vector3i> with 1440 elements.\n",
      "Use numpy.asarray() to access data.\n"
     ]
    }
   ],
   "source": [
    "# Cropping the mesh - Make a partial mesh of only the first half triangles\n",
    "mesh1 = copy.deepcopy(mesh)\n",
    "mesh1.triangles = o3d.utility.Vector3iVector(\n",
    "    np.asarray(mesh1.triangles)[:len(mesh1.triangles) // 2, :])\n",
    "mesh1.triangle_normals = o3d.utility.Vector3dVector(\n",
    "    np.asarray(mesh1.triangle_normals)[:len(mesh1.triangle_normals) // 2, :])\n",
    "print(mesh1.triangles)\n",
    "o3d.visualization.draw_geometries([mesh1])"
   ]
  },
  {
   "cell_type": "code",
   "execution_count": 23,
   "metadata": {},
   "outputs": [],
   "source": [
    "# Painting the mesh \n",
    "mesh1.paint_uniform_color([1, 0.706, 0])\n",
    "o3d.visualization.draw_geometries([mesh1])"
   ]
  },
  {
   "cell_type": "code",
   "execution_count": 7,
   "metadata": {},
   "outputs": [
    {
     "name": "stdout",
     "output_type": "stream",
     "text": [
      "RGBDImage of size \n",
      "Color image : 640x480, with 1 channels.\n",
      "Depth image : 640x480, with 1 channels.\n",
      "Use numpy.asarray to access buffer data.\n"
     ]
    }
   ],
   "source": [
    "# Reading Redwood Dataset\n",
    "redwood_rgbd = o3d.data.SampleRedwoodRGBDImages()\n",
    "color_raw = o3d.io.read_image(redwood_rgbd.color_paths[0])\n",
    "depth_raw = o3d.io.read_image(redwood_rgbd.depth_paths[0])\n",
    "rgbd_image = o3d.geometry.RGBDImage.create_from_color_and_depth(color_raw, depth_raw)\n",
    "print(rgbd_image)\n",
    "\n",
    "#The converted images can be rendered as numpy arrays."
   ]
  },
  {
   "cell_type": "code",
   "execution_count": 8,
   "metadata": {},
   "outputs": [
    {
     "data": {
      "image/png": "[encoded data removed]",
      "text/plain": [
       "<Figure size 432x288 with 2 Axes>"
      ]
     },
     "metadata": {
      "needs_background": "light"
     },
     "output_type": "display_data"
    }
   ],
   "source": [
    "# plot the redwood image as grayscale and depth\n",
    "plt.subplot(1, 2, 1)\n",
    "plt.title('Redwood grayscale image')\n",
    "plt.imshow(rgbd_image.color)\n",
    "plt.subplot(1, 2, 2)\n",
    "plt.title('Redwood depth image')\n",
    "plt.imshow(rgbd_image.depth)\n",
    "plt.show()"
   ]
  },
  {
   "cell_type": "code",
   "execution_count": 10,
   "metadata": {},
   "outputs": [],
   "source": [
    "# Creating pointcloud data from RGBD images\n",
    "pcd_rgbd = o3d.geometry.PointCloud.create_from_rgbd_image(rgbd_image, o3d.camera.PinholeCameraIntrinsic\n",
    "                                                          (o3d.camera.PinholeCameraIntrinsicParameters.PrimeSenseDefault))\n",
    "# Flip it, otherwise the pointcloud will be upside down\n",
    "pcd_rgbd.transform([[1, 0, 0, 0], [0, -1, 0, 0], [0, 0, -1, 0], [0, 0, 0, 1]])\n",
    "o3d.visualization.draw_geometries([pcd_rgbd])"
   ]
  },
  {
   "cell_type": "code",
   "execution_count": null,
   "metadata": {},
   "outputs": [],
   "source": []
  }
 ],
 "metadata": {
  "kernelspec": {
   "display_name": "Python 3 (ipykernel)",
   "language": "python",
   "name": "python3"
  },
  "language_info": {
   "codemirror_mode": {
    "name": "ipython",
    "version": 3
   },
   "file_extension": ".py",
   "mimetype": "text/x-python",
   "name": "python",
   "nbconvert_exporter": "python",
   "pygments_lexer": "ipython3",
   "version": "3.8.13"
  }
 },
 "nbformat": 4,
 "nbformat_minor": 4
}
